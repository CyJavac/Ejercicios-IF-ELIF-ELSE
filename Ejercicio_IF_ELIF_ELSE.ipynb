{
  "nbformat": 4,
  "nbformat_minor": 0,
  "metadata": {
    "colab": {
      "name": "Ejercicio IF_ELIF_ELSE.ipynb",
      "provenance": [],
      "collapsed_sections": []
    },
    "kernelspec": {
      "name": "python3",
      "display_name": "Python 3"
    },
    "language_info": {
      "name": "python"
    }
  },
  "cells": [
    {
      "cell_type": "code",
      "execution_count": null,
      "metadata": {
        "colab": {
          "base_uri": "https://localhost:8080/"
        },
        "id": "lofiWHpKJ5Qi",
        "outputId": "5ebbcbca-2fd5-453b-bac9-6924f358f4c4"
      },
      "outputs": [
        {
          "output_type": "stream",
          "name": "stdout",
          "text": [
            "Ingrese el primer número entero:8\n",
            "Ingrese el segundo número entero:6\n",
            "Resultado: 1.3333333333333333\n",
            "La división no es exacta.\n",
            "Residuo: 2\n"
          ]
        }
      ],
      "source": [
        "#1. Escriba un programa que solicite dos números enteros y calcule su división.\n",
        "#El programa debe definir si la división es exacta o no. Si no es exacta,\n",
        "#debe imprimir cuál es su residuo. ¿Qué debería imprimir el programa si la\n",
        "#división es entre cero?\n",
        "\n",
        "\n",
        "a= int(input(\"Ingrese el primer número entero: \"))\n",
        "b= int(input(\"Ingrese el segundo número entero: \"))\n",
        "\n",
        "if a==0 or b==0: #División entre cero\n",
        "    print(\"Error: No se puede dividir entre cero\")\n",
        "elif (a%b)==0: #Exacto\n",
        "    x=a/b\n",
        "    print(\"Resultado:\",x)\n",
        "    print(\"La división es exacta\")\n",
        "else: #No exacto\n",
        "    x=a/b\n",
        "    print(\"Resultado:\",x)\n",
        "    print(\"La división no es exacta.\")\n",
        "    print(\"Residuo:\",a%b)\n"
      ]
    },
    {
      "cell_type": "code",
      "source": [
        "#2. Escriba un programa que pida dos números e indique si uno es\n",
        "#múltiplo del otro.\n",
        "\n",
        "a= int(input(\"Ingrese el primer número entero: \"))\n",
        "b= int(input(\"Ingrese el segundo número entero: \"))\n",
        "\n",
        "if a>=b:\n",
        "    if a%b==0:\n",
        "        print(a,\"es múltiplo de\",b)\n",
        "    else:\n",
        "        print(a,\"no es múltiplo de\",b)\n",
        "else:\n",
        "    if b%a==0:\n",
        "        print(b,\"es múltiplo de\",a)\n",
        "    else:\n",
        "        print(b,\"no es múltiplo de\",a)\n"
      ],
      "metadata": {
        "colab": {
          "base_uri": "https://localhost:8080/"
        },
        "id": "L-uWpHO2KRP-",
        "outputId": "c7feb906-da46-45a5-e2e9-94afaf88f684"
      },
      "execution_count": null,
      "outputs": [
        {
          "output_type": "stream",
          "name": "stdout",
          "text": [
            "Ingrese el primer número entero: 2\n",
            "Ingrese el segundo número entero: 2\n",
            "2 es múltiplo de 2\n"
          ]
        }
      ]
    },
    {
      "cell_type": "code",
      "source": [
        "#3. Escriba un programa que ordene, de menor a mayor, las edades de\n",
        "#tres hermanos. ¿Qué pasaría si son gemelos? ¿Qué pasaría si son trillizos?\n",
        "\n",
        "a= int(input(\"Ingrese la edad del primer hermano: \"))\n",
        "b= int(input(\"Ingrese la edad del segundo hermano: \"))\n",
        "c= int(input(\"Ingrese la edad del tercer hermano: \"))\n",
        "\n",
        "\n",
        "if a>b and a>c: #1ro = mayor\n",
        "    if b>c:\n",
        "        print(\"3)\",c,\"años\")\n",
        "        print(\"2)\",b,\"años\")\n",
        "        print(\"1)\",a,\"años\")\n",
        "    else:\n",
        "        print(\"2)\",b,\"años\")\n",
        "        print(\"3)\",c,\"años\")\n",
        "        print(\"1)\",a,\"años\")\n",
        "elif b>a and b>c: #2do = mayor\n",
        "    if a>c:\n",
        "        print(\"3)\",c,\"años\")\n",
        "        print(\"1)\",a,\"años\")\n",
        "        print(\"2)\",b,\"años\")\n",
        "    else:\n",
        "        print(\"1)\",a,\"años\")\n",
        "        print(\"3)\",c,\"años\")\n",
        "        print(\"2)\",b,\"años\")\n",
        "else: #3ro = mayor\n",
        "    if b>a:\n",
        "        print(\"1)\",a,\"años\")\n",
        "        print(\"2)\",b,\"años\")\n",
        "        print(\"3)\",c,\"años\")\n",
        "    else:\n",
        "        print(\"2)\",b,\"años\")\n",
        "        print(\"1)\",a,\"años\")\n",
        "        print(\"3)\",c,\"años\")\n",
        "\n",
        "\n",
        "if a==b and b==c: #Trillizos\n",
        "    print(\"Los tres hermanos son trillizos\")    \n",
        "elif a==b: #1ro y 2do = gemelos\n",
        "    if c>a or c>b:\n",
        "        print(\"Los primeros dos hermanos son gemelos, y el tercero es el mayor.\")\n",
        "    else:\n",
        "        print(\"El tercer hermano es el menor, y los primeros dos hermanos son gemelos.\")\n",
        "elif a==c: #1ro y 3ro = gemelos\n",
        "    if b>a or b>c:\n",
        "        print(\"El primero y el tercero son gemelos, y el segundo es el mayor.\")\n",
        "    else:\n",
        "        print(\"El segundo hermano es el menor, y el primero y el tercero son gemelos.\")\n",
        "elif b==c: #2do y 3ro = gemelos\n",
        "    if a>b or a>c:\n",
        "        print(\"El segundo y el tercero son gemelos, y el primero es el mayor.\")\n",
        "    else:\n",
        "        print(\"El primer hermano es el menor, y el segundo y el tercero son gemelos.\")\n"
      ],
      "metadata": {
        "colab": {
          "base_uri": "https://localhost:8080/"
        },
        "id": "HUkfksDRKVxW",
        "outputId": "d5ac2dcf-f3c5-4958-8681-e9790b9a8685"
      },
      "execution_count": null,
      "outputs": [
        {
          "output_type": "stream",
          "name": "stdout",
          "text": [
            "Ingrese la edad del primer hermano: 1\n",
            "Ingrese la edad del segundo hermano: 2\n",
            "Ingrese la edad del tercer hermano: 3\n",
            "1) 1 años\n",
            "2) 2 años\n",
            "3) 3 años\n"
          ]
        }
      ]
    },
    {
      "cell_type": "code",
      "source": [
        "#4. DIAN le ha contratado para identificar si una persona debe pagar\n",
        "#impuesto de renta o no. ¿Qué datos debería suministrar? Escriba un\n",
        "#programa con su solución.\n",
        "\n",
        "print(\"Debe pagar impuesto a la renta si:\")\n",
        "print(\"1) Patrimonio bruto >= $163.386.000, o\")\n",
        "print(\"2) Ingresos totales del respectivo ejercicio gravable >= $50.831.000\")\n",
        "\n",
        "\n",
        "ptrm=float(input(\"Ingrese el patrimonio bruto:\"))\n",
        "ingr=float(input(\"Ingrese los ingresos totales:\"))\n",
        "\n",
        "if ptrm>=163386000 or ingr>=50831000:\n",
        "    print(\"Debe pagar impuesto a la renta\")\n",
        "else:\n",
        "    print(\"No debe pagar impuesto a la renta\")\n"
      ],
      "metadata": {
        "id": "-AM2ElHAKkBG"
      },
      "execution_count": null,
      "outputs": []
    },
    {
      "cell_type": "code",
      "source": [
        "#5. Escriba un programa que, de acuerdo al código del estudiante, defina a qué universidad pertenece. \n",
        "#a.  Si el código empieza con U y tiene 8 dígitos, pertenece a la UNAB\n",
        "#b.  Si los cuatro primeros dígitos es mayor a 1950 , pertenece a la UIS.\n",
        "#c.  Si el código empieza con A y tres ceros seguidos, pertenece a los ANDES.\n",
        "#d.  1000 exp. adicional: Si el código de la UNAB termina en 26, debe imprimir que es ingeniero electrónico.\n",
        "#  Si termina en 32, ingeniero de sistemas. Si termina en 50, pertenece a ingeniería de administración de empresas. \n",
        "#e.  1000 xp. Adicional: Defina códigos con los dos últimos caracteres para la UIS y ANDES, de las mismas carreras.\n",
        "\n",
        "\n",
        "code=list(input(\"Ingrese el código del estudiante: \"))\n",
        "print(*code,\" Dígitos:\",len(code))\n",
        "\n",
        "\n",
        "if code[0]==\"U\" and len(code)==8: #UNAB (Solo 8 digitos contando la U)\n",
        "    print(\"El estudiante pertenece a la UNAB\")\n",
        "    if code[-1]==\"6\" and code[-2]==\"2\": #Termina en 26\n",
        "        print(\"Es un ingeniero electrónico\")\n",
        "    elif code[-1]==\"2\" and code[-2]==\"3\": #Termina en 32\n",
        "        print(\"Es un ingeniero de sistemas\")\n",
        "    elif code[-1]==\"0\" and code[-2]==\"5\": #Termina en 50\n",
        "        print(\"Pertenece a ingeniería de administración de empresas\")\n",
        "\n",
        "elif code[0]!=\"U\" or code[0]!=\"A\": #UIS\n",
        "    codeint=list(map(int,code))\n",
        "    if codeint[0]>=1 and codeint[1]>=9 and codeint[2]>=5 and codeint[3]>0:\n",
        "            print(\"El estudiante pertenece a la UIS\")\n",
        "    else:\n",
        "      print(\"No se puede identificar la universidad a la que pertenece\")\n",
        "\n",
        "elif code[0]==\"A\" and code[1]==\"0\" and code[2]==\"0\" and code[3]==\"0\": #ANDES\n",
        "    print(\"El estudiante pertenece a los ANDES\")\n",
        "\n",
        "else:\n",
        "    print(\"No se puede identificar la universidad a la que pertenece\")\n"
      ],
      "metadata": {
        "colab": {
          "base_uri": "https://localhost:8080/"
        },
        "id": "r33bv0HdKm0O",
        "outputId": "d644df1a-1664-49ca-8080-dac85cc1ee8d"
      },
      "execution_count": null,
      "outputs": [
        {
          "output_type": "stream",
          "name": "stdout",
          "text": [
            "Ingrese el código del estudiante: 19508\n",
            "1 9 5 0 8  Dígitos: 5\n",
            "No se puede identificar la universidad a la que pertenece\n"
          ]
        }
      ]
    },
    {
      "cell_type": "code",
      "source": [
        "#6.Escriba un programa que le pregunte sus cuatro notas y calcule su promedio\n",
        "#actual. Si su promedio es mayor a 4.5, se le diga que está eximido del último\n",
        "#examen. Si su nota se encuentra entre 3.5 y 4.5 (intervalo abierto) se le\n",
        "#indique que debe presentar el examen. Si la nota se encuentra entre 3 y 3.5\n",
        "#(intervalo abierto), se le indique que adicional al examen, debe presentar\n",
        "#un trabajo. Si la nota está entre intervalo abierto entre 2 y 3, decir que\n",
        "#debe presentar habilitación. De lo contrario, se le debe indicar al estudiante\n",
        "#que perdió la materia irremediablemente.\n",
        "\n",
        "print(\"Ingrese sus cuatro notas\")\n",
        "a=float(input())\n",
        "b=float(input())\n",
        "c=float(input())\n",
        "d=float(input())\n",
        "promedio=(a+b+c+d)/4\n",
        "print(\"Su promedio es de:\",promedio)\n",
        "\n",
        "if promedio>4.5:\n",
        "    print(\"Esta eximido del último examen\")\n",
        "elif promedio>=3.5 and promedio<=4.5:\n",
        "    print(\"Debe presentar el último examen\")\n",
        "elif promedio>=3 and promedio<=3.5:\n",
        "    print(\"Debe presentar el último examen, y presentar un trabajo extra\")\n",
        "elif promedio>=2 and promedio<=2:\n",
        "    print(\"Debe presentar habilitación\")\n",
        "else:\n",
        "    print(\"Perdió la materia\")\n"
      ],
      "metadata": {
        "id": "XNj3jYyPKrh2"
      },
      "execution_count": null,
      "outputs": []
    },
    {
      "cell_type": "code",
      "source": [
        "#7.\tEscriba un programa que pregunte tu fecha de nacimiento,\n",
        "#e indique cuántos días faltan para tu cumpleaños y cuántos años tienes.\n",
        "\n",
        "# Importa clase date de la librería datetime\n",
        "\n",
        "from datetime import date\n",
        "\n",
        "f_nac= input(\"Digite su edad (dd/mm/aaaa): \")\n",
        "\n",
        "# Calcula la edad en años \n",
        "f_nac= date(int(f_nac[6:]), int(f_nac[3:5]), int(f_nac[0:2]))\n",
        "f_hoy= date.today()\n",
        "edad= f_hoy.year - f_nac.year - ((f_hoy.month, f_hoy.day) < (f_nac.month, f_nac.day))\n",
        "print(\"Usted tiene\",edad,\"años\")\n",
        "\n",
        "# Calcula los días faltantes para el próximo cumpleaños \n",
        "if ((f_hoy.month, f_hoy.day) < (f_nac.month, f_nac.day)):\n",
        "    año= f_hoy.year\n",
        "else:\n",
        "    año= f_hoy.year + 1\n",
        "\n",
        "f_cumple= date(año,f_nac.month,f_nac.day)\n",
        "faltan= f_cumple - f_hoy\n",
        "\n",
        "print(\"Faltan\",faltan.days,\"días para su próximo cumpleaños\")\n",
        "\n",
        "#año = f_hoy.year if ((f_hoy.month, f_hoy.day) < (f_nac.month, f_nac.day)) else f_hoy.year + 1\n",
        "#print((date(año,f_nac.month,f_nac.day) - f_hoy).days)\n"
      ],
      "metadata": {
        "id": "xspiX3qwKuKO",
        "colab": {
          "base_uri": "https://localhost:8080/"
        },
        "outputId": "1eb16389-11be-46a1-cd8d-3e218c4d64c9"
      },
      "execution_count": null,
      "outputs": [
        {
          "output_type": "stream",
          "name": "stdout",
          "text": [
            "Digite su edad (dd/mm/aaaa): 16/08/1935\n",
            "Usted tiene 87 años\n",
            "Faltan 363 días para su próximo cumpleaños\n"
          ]
        }
      ]
    },
    {
      "cell_type": "code",
      "source": [
        "#8. Escriba un programa que defina si un número es bisiesto.\n",
        "#Un año es bisiesto cuando son múltiplos de 4, pero no son múltiplos de 100.\n",
        "\n",
        "\n",
        "año=int(input(\"Ingrese el año: \"))\n",
        "bis=bool\n",
        "\n",
        "if año%4==0:\n",
        "    bis=True\n",
        "    if año%100==0:\n",
        "        if año%400==0:\n",
        "            bis=True\n",
        "        else:\n",
        "            bis=False\n",
        "else:\n",
        "    bis=False\n",
        "\n",
        "if bis==True: \n",
        "    print(\"El año\",año,\"es bisiesto\")\n",
        "else: \n",
        "    print(\"El año\",año,\"no es bisiesto\")\n"
      ],
      "metadata": {
        "id": "-Md4rgTzKyD2",
        "colab": {
          "base_uri": "https://localhost:8080/"
        },
        "outputId": "2bf6abfc-22e6-4d29-d0d2-c4b53e9f0a4e"
      },
      "execution_count": null,
      "outputs": [
        {
          "output_type": "stream",
          "name": "stdout",
          "text": [
            "Ingrese el año: 1600\n",
            "El año 1600 es bisiesto\n"
          ]
        }
      ]
    },
    {
      "cell_type": "code",
      "source": [
        "#9.\tEscriba un programa que solicite los coeficientes \n",
        "#de la ecuación de la recta ax+b=0 y escriba la solución.\n",
        "\n",
        "print(\"Digite los valores para la ecuación ax+b=0 \")\n",
        "a=int(input(\"a = \"))\n",
        "b=int(input(\"b = \"))\n",
        "x=-(b/a)\n",
        "\n",
        "print(f\"El resultado de la ecuación {a}x+{b}=0 es\", x)\n"
      ],
      "metadata": {
        "id": "ie6ILdcZK0i-"
      },
      "execution_count": null,
      "outputs": []
    },
    {
      "cell_type": "code",
      "source": [
        "#10. Escriba un programa que halle la pendiente de la recta ax+b=c. \n",
        " \n",
        "# En la ecuación explícita de la recta con forma y=mx+n\n",
        "# el parámetro m corresponde a la pendiente de la recta\n",
        "\n",
        "print(\"Digite el valor de los coeficientes para la ecuación ax+b=c \")\n",
        "a=int(input(\"a = \"))\n",
        "b=int(input(\"b = \"))\n",
        "c=int(input(\"c = \"))\n",
        "print(f\"En la ecuación {a}x+{b}={c} la pendiente es {a}\")\n"
      ],
      "metadata": {
        "id": "w2KDF-d1K2Xu"
      },
      "execution_count": null,
      "outputs": []
    },
    {
      "cell_type": "code",
      "source": [
        "#11. Escriba un programa que pida los coeficientes de una ecuación de segundo\n",
        "# grado (a x² + b x + c = 0) y escriba la solución.\n",
        "#Se recuerda que una ecuación de segundo grado puede no tener solución,\n",
        "# tener una solución única, tener dos soluciones o que todos los números sean solución.\n",
        "# Se recuerda que la fórmula de las soluciones cuando hay dos soluciones es x = (-b ± √(b2-4ac) ) / (2a)\n",
        "\n",
        "\n",
        "\n",
        "# Importa clase sqrt (raíz) de la librería math\n",
        "from math import sqrt\n",
        "print(\"Digite el valor de los coeficientes para la ecuación de 2o grado ax^2+bx+c=0 \")\n",
        "a=float(input(\"Coeficiente de la variable cuadrática (a) = \"))\n",
        "b=float(input(\"Coeficiente de la variable lineal (b) = \"))\n",
        "c=float(input(\"Término independiente (c) = \"))\n",
        "\n",
        "# Aplica ecuación cuadrática x = (-b±√(b2-4ac))/(2a)\n",
        "if ((b**2)-4*a*c) < 0: # Si el valor en la raiz es negativo, la parábola no toca el eje x\n",
        "  print(\"Valor negativo en la raiz, la solución requiere números complejos\")\n",
        "elif ((b**2)-4*a*c) == 0: # Si el valor en la raiz es cero, la parábola solo toca el eje x en un punto\n",
        "  x1 = (-b/(2*a))  # Ecuación con valor cero en la raiz\n",
        "  print(\"La solucioón de la ecuación es:\")\n",
        "  print(\"x1 =\", x1)\n",
        "else: # Si el valor en la raiz es positivo, la parábola toca el eje x en dos puntos\n",
        "  x1 = (-b+sqrt(b**2-(4*a*c)))/(2*a)  # Ecuación con signo positivo\n",
        "  x2 = (-b-sqrt(b**2-(4*a*c)))/(2*a)  # Ecuación con signo negativo\n",
        "  print(\"Las soluciones de la ecuación son:\")\n",
        "  print(\"x1 =\", x1)\n",
        "  print(\"x2 =\", x2)\n"
      ],
      "metadata": {
        "id": "mjcbmKznK4Hv"
      },
      "execution_count": null,
      "outputs": []
    },
    {
      "cell_type": "code",
      "source": [
        "#12. Escriba un programa que sirva para evaluar si un estudiante sabe sumar,\n",
        "#restar, multiplicar o dividir. Para ello, debe\n",
        "#a.\tSolicitarle al usuario qué operación desea probar\n",
        "#b.\tLa operación que aparecerá deberá tener dos números aleatorios.\n",
        "#c.\tEl programa definirá si el usuario acertó, o no.\n",
        "\n",
        "\n",
        "# Importa librería random (números aleatorios)\n",
        "import random\n",
        "\n",
        "while True:\n",
        "    print (\"\\n - - Menú - - \")\n",
        "    print (\"  1. Sumar\")\n",
        "    print (\"  2. Restar\")\n",
        "    print (\"  3. Multiplicar\")\n",
        "    print (\"  4. Dividir\")\n",
        "    print (\"  5. Salir\")\n",
        "    opcion = int(input('Digite su elección: '))\n",
        "    num1 = random.randint(1, 100)\n",
        "    num2 = random.randint(1, 100)\n",
        "    if opcion==1: # Sumar\n",
        "        resultado = float(input(f\"Digite el resultado de {num1} + {num2}: \"))\n",
        "        if num1+num2 == resultado:\n",
        "            print(f\"Muy bien! {num1} + {num2} = {resultado}\")\n",
        "        else:\n",
        "            print(f\"Incorrecto. {num1} + {num2} = {num1+num2}\")\n",
        "    elif opcion==2: # Restar\n",
        "        resultado = float(input(f\"Digite el resultado de {num1} - {num2}: \"))\n",
        "        if num1-num2 == resultado:\n",
        "            print(f\"Muy bien! {num1} - {num2} = {resultado}\")\n",
        "        else:\n",
        "            print(f\"Incorrecto. {num1} - {num2} = {num1-num2}\")\n",
        "    elif opcion==3: # Multiplicar\n",
        "        resultado = float(input(f\"Digite el resultado de {num1} * {num2}: \"))\n",
        "        if num1*num2 == resultado:\n",
        "            print(f\"Muy bien! {num1} * {num2} = {resultado}\")\n",
        "        else:\n",
        "            print(f\"Incorrecto. {num1} * {num2} = {num1*num2}\")\n",
        "    elif opcion==4: # Dividir\n",
        "        resultado = round(float(input(f\"Digite el resultado de {num1} / {num2}: \")),2)\n",
        "        if round((num1/num2),2) == resultado:\n",
        "            print(f\"Muy bien! {num1} / {num2} = {resultado}\")\n",
        "        else:\n",
        "            print(f\"Incorrecto. {num1} / {num2} = {round((num1/num2),2)}\")\n",
        "    elif opcion==5: #Salir\n",
        "        break\n",
        "    else:\n",
        "        print(\"La opción ingresada no se encuentra en el menú\")\n"
      ],
      "metadata": {
        "colab": {
          "base_uri": "https://localhost:8080/"
        },
        "id": "x4sgaK-BK50F",
        "outputId": "134b787a-53aa-4327-dc10-4cc483afc206"
      },
      "execution_count": 4,
      "outputs": [
        {
          "name": "stdout",
          "output_type": "stream",
          "text": [
            "\n",
            " - - Menú - - \n",
            "  1. Sumar\n",
            "  2. Restar\n",
            "  3. Multiplicar\n",
            "  4. Dividir\n",
            "  5. Salir\n",
            "Digite su elección: 1\n",
            "Digite el resultado de 74 + 93: 167\n",
            "Muy bien! 74 + 93 = 167.0\n",
            "\n",
            " - - Menú - - \n",
            "  1. Sumar\n",
            "  2. Restar\n",
            "  3. Multiplicar\n",
            "  4. Dividir\n",
            "  5. Salir\n",
            "Digite su elección: 2\n",
            "Digite el resultado de 89 - 13: 33\n",
            "Incorrecto. 89 - 13 = 76\n",
            "\n",
            " - - Menú - - \n",
            "  1. Sumar\n",
            "  2. Restar\n",
            "  3. Multiplicar\n",
            "  4. Dividir\n",
            "  5. Salir\n",
            "Digite su elección: 5\n"
          ]
        }
      ]
    },
    {
      "cell_type": "code",
      "source": [
        "#13. Realizar programa que permita convertir:\n",
        "#a. cm a metros\n",
        "#b. cm a km\n",
        "#c. metros a km\n",
        "#d. km a cm\n",
        "#e. km a  m.\n",
        "\n",
        "med=float(input(\"Ingrese la cantidad que desea convertir: \"))\n",
        "rta=float(0)\n",
        "\n",
        "print(\"\\n - - Menú - - \")\n",
        "print(\"1) cm a metros\")\n",
        "print(\"2) cm a km\")\n",
        "print(\"3) metros a km\")\n",
        "print(\"4) km a cm\")\n",
        "print(\"5) km a m\")\n",
        "opc=int(input(\"Escoja que conversión desea realizar:\"))\n",
        "\n",
        "if opc==1: #1) cm a metros\n",
        "    rta=float(med/100)\n",
        "    print(\"Resultado:\",rta,\"m\")\n",
        "\n",
        "elif opc==2: #2) cm a km\n",
        "    rta=float(med/100000)\n",
        "    print(\"Resultado:\",rta,\"km\")\n",
        "    \n",
        "elif opc==3: #3) metros a km\n",
        "    rta=float(med/1000)\n",
        "    print(\"Resultado:\",rta,\"km\")\n",
        "    \n",
        "elif opc==4: #4) km a cm\n",
        "    rta=float(med*100000)\n",
        "    print(\"Resultado:\",rta,\"cm\")\n",
        "    \n",
        "elif opc==5: #5) km a m\n",
        "    rta=float(med*1000)\n",
        "    print(\"Resultado:\",rta,\"m\")\n",
        "else:\n",
        "    print(\"Error: no ha seleccionado una opción valida\")\n"
      ],
      "metadata": {
        "id": "yHSOVNHLK8L2"
      },
      "execution_count": null,
      "outputs": []
    },
    {
      "cell_type": "code",
      "source": [
        "#14. Realizar un programa que solicite al usuario que escriba una letra,\n",
        "#y defina si es vocal o consonante. El programa no debe funcionar\n",
        "#(o indicar que es un error) si se intenta ingresar más de una letra o un número.\n",
        "\n",
        "v=[\"A\",\"E\",\"I\",\"O\",\"U\"]\n",
        "a=str(input(\"Ingrese una letra: \"))\n",
        "\n",
        "if len(a)==2 or a.isdigit():\n",
        "    print(\"Error\")\n",
        "\n",
        "elif a.upper() in v: #Vocal\n",
        "    print(\"La letra\",a,\"es una vocal\")\n",
        "    \n",
        "else: #Consonante\n",
        "    print(\"La letra\",a,\"es una consonante\")\n"
      ],
      "metadata": {
        "id": "fI1EyIpyLAG5"
      },
      "execution_count": null,
      "outputs": []
    },
    {
      "cell_type": "code",
      "source": [
        "#15. Escribir un programa que, dado un número entero,\n",
        "#muestre su valor absoluto. \n",
        "\n",
        "n=int(input(\"Ingrese un número entero: \"))\n",
        "print(\"Su valor absoluto es: \",abs(n))\n"
      ],
      "metadata": {
        "id": "xGNro-2JLCFJ",
        "colab": {
          "base_uri": "https://localhost:8080/"
        },
        "outputId": "fa1d0874-a658-4e88-84bc-d42d3d61cac2"
      },
      "execution_count": null,
      "outputs": [
        {
          "output_type": "stream",
          "name": "stdout",
          "text": [
            "Ingrese un número entero: -5\n",
            "Su valor absoluto es:  5\n"
          ]
        }
      ]
    },
    {
      "cell_type": "code",
      "source": [
        "#16. Realizar un programa que solicite al usuario que ingrese los nombres de\n",
        "#dos usuarios los cuáles se almacenarán en user1 y user2. A continuación,\n",
        "#imprimir “coincidencia” si los nombres de ambas personas comienzan con la\n",
        "#misma letra o si terminan con la misma letra. Si no es así, imprimir\n",
        "#“no hay coincidencia”.\n",
        "\n",
        "user1=list(input(\"Escribe el nombre del primer usuario: \"))\n",
        "user2=list(input(\"Escribe el nombre del segundo usuario: \"))\n",
        "\n",
        "if user1[0]==user2[0]: #Primera letra\n",
        "    print(\"Coincidencia\")\n",
        "\n",
        "elif user1[-1]==user2[-1]: #Ultima letra\n",
        "    print(\"Coincidencia\")\n",
        "\n",
        "else: #Ninguna\n",
        "    print(\"No hay coincidencia\")\n"
      ],
      "metadata": {
        "id": "FbEW87o3LDsR"
      },
      "execution_count": null,
      "outputs": []
    },
    {
      "cell_type": "code",
      "source": [
        "#17. Escribir un programa que le permita al usuario elegir un candidato por\n",
        "#el cual votar: Candidato A por el partido Alfa, Candidato B, por el partido\n",
        "#Beta, Candidato C por el partido gamma. Cuando el usuario introduce A, B o C,\n",
        "#deberá imprimir por cuál candidato y partido ha votado. Si el usuario\n",
        "#introduce otra letra, el programa debe indicarle que ha cometido un error.\n",
        "\n",
        "cnd=[\"A\",\"B\",\"C\",\"ALFA\",\"BETA\",\"GAMMA\"]\n",
        "print(\"\\n - - Candidatos - - \")\n",
        "print(\"Candidato A del partido Alfa\")\n",
        "print(\"Candidato B del partido Beta\")\n",
        "print(\"Candidato C del partido Gamma\")\n",
        "\n",
        "sure=False\n",
        "while sure==False: #Confirmar elección\n",
        "    opc=input(\"Escoja el candidato o el partido por el que desea votar: \")\n",
        "    if opc.upper()in cnd:\n",
        "        s=input(\"¿Seguro que desea votar por ese candidato? Si/No: \")\n",
        "        sure=False if s.upper()==\"NO\" else True\n",
        "        \n",
        "    else: #Ninguna de las anteiores\n",
        "        print(\"Error: no ha seleccionado una opción valida\")\n",
        "\n",
        "\n",
        "\n",
        "if opc.upper()==\"A\" or opc.upper()==\"ALFA\": #A - Alfa\n",
        "    print(\"Usted a votado por el candidato A del partido Alfa\")\n",
        "\n",
        "elif opc.upper()==\"B\" or opc.upper()==\"BETA\": #B - Beta\n",
        "    print(\"Usted a votado por el candidato B del partido Beta\")\n",
        "    \n",
        "elif opc.upper()==\"C\" or opc.upper()==\"GAMMA\": #C - Gamma\n",
        "    print(\"Usted a votado por el candidato C del partido Gamma\")\n",
        "    \n",
        "#else:\n",
        "    #print(\"Error: no ha seleccionado una opción valida\")\n"
      ],
      "metadata": {
        "colab": {
          "base_uri": "https://localhost:8080/"
        },
        "id": "XFGWQ1ECLFFx",
        "outputId": "c54cdc98-a951-4df4-b5aa-174d47ceb614"
      },
      "execution_count": 1,
      "outputs": [
        {
          "output_type": "stream",
          "name": "stdout",
          "text": [
            " - - Candidatos - - \n",
            "Candidato A del partido Alfa\n",
            "Candidato B del partido Beta\n",
            "Candidato C del partido Gamma\n",
            "Escoja el candidato o el partido por el que desea votar: gamma\n",
            "¿Seguro que desea votar por ese candidato? Si/No: si\n",
            "Usted a votado por el candidato C del partido Gamma\n"
          ]
        }
      ]
    },
    {
      "cell_type": "code",
      "source": [
        "#18. Escribir un programa que separe un número en sus unidades,\n",
        "#decenas y centenas.\n",
        "\n",
        "n=list(input(\"Escriba un número de tres digitos: \"))\n",
        "\n",
        "if len(n)>3 or len(n)<3: #Contador de dígitos\n",
        "    print(\"Error: el número debe ser de tres dígitos\")\n",
        "\n",
        "else:\n",
        "    n2=list(map(int,n))\n",
        "    print(n2[0],\"Centenas\",\"(\",n2[0]*100,\")\")\n",
        "    print(n2[1],\"Decenas\",\"(\",n2[1]*10,\")\")\n",
        "    print(n2[2],\"Unidades\")\n"
      ],
      "metadata": {
        "id": "e5ZjaVu-LJex",
        "colab": {
          "base_uri": "https://localhost:8080/"
        },
        "outputId": "e77aa0c8-786b-44ac-b30e-b64f85b36701"
      },
      "execution_count": 2,
      "outputs": [
        {
          "output_type": "stream",
          "name": "stdout",
          "text": [
            "Escriba un número de tres digitos: 139\n",
            "1 Centenas ( 100 )\n",
            "3 Decenas ( 30 )\n",
            "9 Unidades\n"
          ]
        }
      ]
    },
    {
      "cell_type": "code",
      "source": [
        "#19. Escribir un programa que lea una palabra y defina si es un palíndromo.\n",
        "#NOTA: Un palíndromo es una palabra que se lee igual adelante y hacia atrás.\n",
        "\n",
        "\n",
        "x=input(\"Ingrese una palabra: \")\n",
        "\n",
        "if str(x)==str(x)[::-1]:\n",
        "    print(\"La palabra\",x,\"es un palíndromo\")\n",
        "    \n",
        "else:\n",
        "    print(\"La palabra\",x,\"no es un palíndromo\")\n"
      ],
      "metadata": {
        "id": "5HRECQCJLLGJ"
      },
      "execution_count": null,
      "outputs": []
    },
    {
      "cell_type": "code",
      "source": [
        "#20.Escribir un programa que lea un número y defina si es o no un palíndromo.\n",
        "\n",
        "x=int(input(\"Ingrese un número: \"))\n",
        "\n",
        "if str(x)==str(x)[::-1]:\n",
        "    print(\"El número\",x,\"es un palíndromo\")\n",
        "    \n",
        "else:\n",
        "    print(\"El número\",x,\"no es un palíndromo\")\n"
      ],
      "metadata": {
        "id": "VceKdXJ4LMT6"
      },
      "execution_count": null,
      "outputs": []
    }
  ]
}