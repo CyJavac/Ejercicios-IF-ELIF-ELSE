{
  "nbformat": 4,
  "nbformat_minor": 0,
  "metadata": {
    "colab": {
      "name": "Ejercicios IF_ELIF_ELSE concatenados.ipynb",
      "provenance": [],
      "collapsed_sections": []
    },
    "kernelspec": {
      "name": "python3",
      "display_name": "Python 3"
    },
    "language_info": {
      "name": "python"
    }
  },
  "cells": [
    {
      "cell_type": "code",
      "execution_count": null,
      "metadata": {
        "id": "DCTuDau9o_qa"
      },
      "outputs": [],
      "source": []
    },
    {
      "cell_type": "code",
      "source": [
        "#1. Escriba un programa que solicite dos números enteros y calcule su división.\n",
        "#El programa debe definir si la división es exacta o no. Si no es exacta,\n",
        "#debe imprimir cuál es su residuo. ¿Qué debería imprimir el programa si la\n",
        "#división es entre cero?\n",
        "\n",
        "a= int(input(\"Ingrese el primer número entero: \"))\n",
        "b= int(input(\"Ingrese el segundo número entero: \"))\n",
        "\n",
        "\n",
        "if a==0 or b==0: #División entre cero\n",
        "    print(\"Error: No se puede dividir entre cero\")\n",
        "else:\n",
        "  x=a/b\n",
        "print(f\"Resultado: {x} \\nLa división es exacta\" if (a%b)==0 else f\"Resultado: {x} \\nLa división no es exacta. \\nResiduo:{a%b}\")\n",
        "\n",
        "\n"
      ],
      "metadata": {
        "colab": {
          "base_uri": "https://localhost:8080/"
        },
        "id": "U6Au2WdIpo6R",
        "outputId": "dbee5f1d-40f4-4cf7-8728-493f10fdd73d"
      },
      "execution_count": null,
      "outputs": [
        {
          "output_type": "stream",
          "name": "stdout",
          "text": [
            "Ingrese el primer número entero: 5\n",
            "Ingrese el segundo número entero: 3\n",
            "Resultado: 1.6666666666666667 \n",
            "La división no es exacta. \n",
            "Residuo:2\n"
          ]
        }
      ]
    },
    {
      "cell_type": "code",
      "source": [
        "#2. Escriba un programa que pida dos números e indique si uno es\n",
        "#múltiplo del otro.\n",
        "\n",
        "a= int(input(\"Ingrese el primer número entero: \"))\n",
        "b= int(input(\"Ingrese el segundo número entero: \"))\n",
        "\n",
        "if a>=b:\n",
        "    print(f\"{a} es múltiplo de {b}\" if b%a==0 else f\"{a} no es múltiplo de {b}\")\n",
        "\n",
        "else:\n",
        "    print(f\"{b} es múltiplo de {a}\" if b%a==0 else f\"{b} no es múltiplo de {a}\")\n",
        "\n"
      ],
      "metadata": {
        "colab": {
          "base_uri": "https://localhost:8080/"
        },
        "id": "ZAATOsRrv267",
        "outputId": "254ef565-7819-433e-dc2d-a1b0ab5bcadd"
      },
      "execution_count": null,
      "outputs": [
        {
          "output_type": "stream",
          "name": "stdout",
          "text": [
            "Ingrese el primer número entero: 2\n",
            "Ingrese el segundo número entero: 6\n",
            "6 es múltiplo de 2\n"
          ]
        }
      ]
    },
    {
      "cell_type": "code",
      "source": [
        "#3. Escriba un programa que ordene, de menor a mayor, las edades de\n",
        "#tres hermanos. ¿Qué pasaría si son gemelos? ¿Qué pasaría si son trillizos?\n",
        "\n",
        "a= int(input(\"Ingrese la edad del primer hermano: \"))\n",
        "b= int(input(\"Ingrese la edad del segundo hermano: \"))\n",
        "c= int(input(\"Ingrese la edad del tercer hermano: \"))\n",
        "\n",
        "\n",
        "if a>b and a>c: #1ro = mayor\n",
        "    print(f\"3) {c} años \\n2) {b} años \\n1) {a} años\" if b>c else f\"2) {b} años. \\n3) {c} años \\n1) {a} años\")\n",
        "\n",
        "elif b>a and b>c: #2do = mayor\n",
        "    print(f\"3) {c} años \\n1) {a} años \\n2) {b} años\" if a>c else f\"1) {a} años. \\n3) {c} años \\n2) {b} años\")\n",
        "\n",
        "else: #3ro = mayor\n",
        "    print(f\"1) {a} años \\n2) {b} años \\n3) {c} años\" if b>a else f\"2) {b} años. \\n1) {a} años \\n3) {c} años\")\n",
        "\n",
        "\n",
        "if a==b and b==c: #Trillizos\n",
        "    print(\"Los tres hermanos son trillizos\")    \n",
        "elif a==b: #1ro y 2do = gemelos\n",
        "    print(\"Los primeros dos hermanos son gemelos, y el tercero es el mayor.\" if c>a or c>b else \"El tercer hermano es el menor, y los primeros dos hermanos son gemelos.\")\n",
        "\n",
        "elif a==c: #1ro y 3ro = gemelos\n",
        "    print(\"El primero y el tercero son gemelos, y el segundo es el mayor.\" if b>a or b>c else \"El segundo hermano es el menor, y el primero y el tercero son gemelos.\")\n",
        "\n",
        "elif b==c: #2do y 3ro = gemelos\n",
        "    print(\"El segundo y el tercero son gemelos, y el primero es el mayor.\" if a>b or a>c else \"El primer hermano es el menor, y el segundo y el tercero son gemelos.\")\n",
        "\n"
      ],
      "metadata": {
        "colab": {
          "base_uri": "https://localhost:8080/"
        },
        "id": "mjca1wCj7kbW",
        "outputId": "7b95e0fc-3e77-4289-bf3a-bcd4d323bf1f"
      },
      "execution_count": 42,
      "outputs": [
        {
          "output_type": "stream",
          "name": "stdout",
          "text": [
            "Ingrese la edad del primer hermano: 8\n",
            "Ingrese la edad del segundo hermano: 3\n",
            "Ingrese la edad del tercer hermano: 9\n",
            "2) 3 años. \n",
            "1) 8 años \n",
            "3) 9 años\n"
          ]
        }
      ]
    },
    {
      "cell_type": "code",
      "source": [
        "#4. DIAN le ha contratado para identificar si una persona debe pagar\n",
        "#impuesto de renta o no. ¿Qué datos debería suministrar? Escriba un\n",
        "#programa con su solución.\n",
        "\n",
        "print(\"Debe pagar impuesto a la renta si:\")\n",
        "print(\"1) Patrimonio bruto >= $163.386.000, o\")\n",
        "print(\"2) Ingresos totales del respectivo ejercicio gravable >= $50.831.000\")\n",
        "\n",
        "\n",
        "ptrm=float(input(\"Ingrese el patrimonio bruto:\"))\n",
        "ingr=float(input(\"Ingrese los ingresos totales:\"))\n",
        "\n",
        "print(\"Debe pagar impuesto a la renta\" if ptrm>=163386000 or ingr>=50831000 else \"No debe pagar impuesto a la renta\")\n"
      ],
      "metadata": {
        "id": "7qqOFGz6w6oq"
      },
      "execution_count": null,
      "outputs": []
    },
    {
      "cell_type": "code",
      "source": [
        "#5. Escriba un programa que, de acuerdo al código del estudiante, defina a qué universidad pertenece. \n",
        "#a.  Si el código empieza con U y tiene 8 dígitos, pertenece a la UNAB\n",
        "#b.  Si los cuatro primeros dígitos es mayor a 1950 , pertenece a la UIS.\n",
        "#c.  Si el código empieza con A y tres ceros seguidos, pertenece a los ANDES.\n",
        "#d.  1000 exp. adicional: Si el código de la UNAB termina en 26, debe imprimir que es ingeniero electrónico.\n",
        "#  Si termina en 32, ingeniero de sistemas. Si termina en 50, pertenece a ingeniería de administración de empresas. \n",
        "#e.  1000 xp. Adicional: Defina códigos con los dos últimos caracteres para la UIS y ANDES, de las mismas carreras.\n",
        "\n",
        "\n",
        "code=list(input(\"Ingrese el código del estudiante: \"))\n",
        "print(*code,\" Dígitos:\",len(code))\n",
        "\n",
        "\n",
        "if code[0]==\"U\" and len(code)==8: #UNAB (Solo 8 digitos contando la U)\n",
        "    print(\"El estudiante pertenece a la UNAB\")\n",
        "    print(\"Es un ingeniero electrónico\" if code[-1]==\"6\" and code[-2]==\"2\" else \"Es un ingeniero de sistemas\" if code[-1]==\"2\" and code[-2]==\"3\" else \"Pertenece a ingeniería de administración de empresas\" if code[-1]==\"0\" and code[-2]==\"5\" else \"\")\n",
        "\n",
        "elif code[0]!=\"U\" or code[0]!=\"A\": #UIS\n",
        "    codeint=list(map(int,code))\n",
        "    print(\"El estudiante pertenece a la UIS\" if codeint[0]>=1 and codeint[1]>=9 and codeint[2]>=5 and codeint[3]>0 else \"No se puede identificar la universidad a la que pertenece\")\n",
        "\n",
        "elif code[0]==\"A\" and code[1]==\"0\" and code[2]==\"0\" and code[3]==\"0\": #ANDES\n",
        "    print(\"El estudiante pertenece a los ANDES\")\n",
        "else:\n",
        "    print(\"No se puede identificar la universidad a la que pertenece\")"
      ],
      "metadata": {
        "colab": {
          "base_uri": "https://localhost:8080/"
        },
        "id": "Jy5MhF_Dw7ER",
        "outputId": "b12c4ca2-bbde-43f3-bc6b-338a35b08824"
      },
      "execution_count": null,
      "outputs": [
        {
          "output_type": "stream",
          "name": "stdout",
          "text": [
            "Ingrese el código del estudiante: 19534\n",
            "1 9 5 3 4  Dígitos: 5\n",
            "El estudiante pertenece a la UIS\n"
          ]
        }
      ]
    },
    {
      "cell_type": "code",
      "source": [
        "#6. Escriba un programa que le pregunte sus cuatro notas y calcule su promedio\n",
        "#actual. Si su promedio es mayor a 4.5, se le diga que está eximido del último\n",
        "#examen. Si su nota se encuentra entre 3.5 y 4.5 (intervalo abierto) se le\n",
        "#indique que debe presentar el examen. Si la nota se encuentra entre 3 y 3.5\n",
        "#(intervalo abierto), se le indique que adicional al examen, debe presentar\n",
        "#un trabajo. Si la nota está entre intervalo abierto entre 2 y 3, decir que\n",
        "#debe presentar habilitación. De lo contrario, se le debe indicar al estudiante\n",
        "#que perdió la materia irremediablemente.\n",
        "\n",
        "print(\"Ingrese sus cuatro notas\")\n",
        "a=float(input())\n",
        "b=float(input())\n",
        "c=float(input())\n",
        "d=float(input())\n",
        "promedio=(a+b+c+d)/4\n",
        "print(\"Su promedio es de:\",promedio)\n",
        "\n",
        "print(\"Esta eximido del último examen\" if promedio>4.5 else \"Debe presentar el último examen\" if promedio>=3.5 and promedio<=4.5 else \"Debe presentar el último examen, y presentar un trabajo extra\" if promedio>=3 and promedio<=3.5 else \"Debe presentar habilitación\" if promedio>=2 and promedio<=2 else \"Perdió la materia\")\n"
      ],
      "metadata": {
        "colab": {
          "base_uri": "https://localhost:8080/"
        },
        "id": "iq4XiXSjzVMX",
        "outputId": "9b45f600-2975-481c-e6b0-0aa776cff4ba"
      },
      "execution_count": null,
      "outputs": [
        {
          "output_type": "stream",
          "name": "stdout",
          "text": [
            "Ingrese sus cuatro notas\n",
            "4\n",
            "3\n",
            "5\n",
            "2\n",
            "Su promedio es de: 3.5\n",
            "Debe presentar el último examen\n"
          ]
        }
      ]
    },
    {
      "cell_type": "code",
      "source": [
        "#7.\tEscriba un programa que pregunte tu fecha de nacimiento,\n",
        "#e indique cuántos días faltan para tu cumpleaños y cuántos años tienes.\n",
        "\n",
        "#Importa clase date de la librería datetime\n",
        "\n",
        "from datetime import date\n",
        "\n",
        "f_nac= input(\"Digite su edad (dd/mm/aaaa): \")\n",
        "\n",
        "#Calcula la edad en años \n",
        "f_nac= date(int(f_nac[6:]), int(f_nac[3:5]), int(f_nac[0:2]))\n",
        "f_hoy= date.today()\n",
        "edad= f_hoy.year - f_nac.year - ((f_hoy.month, f_hoy.day) < (f_nac.month, f_nac.day))\n",
        "print(\"Usted tiene\",edad,\"años\")\n",
        "\n",
        "#Calcula los días faltantes para el próximo cumpleaños \n",
        "\n",
        "año=f_hoy.year if ((f_hoy.month, f_hoy.day)<(f_nac.month, f_nac.day)) else f_hoy.year +1\n",
        "\n",
        "\n",
        "f_cumple= date(año,f_nac.month,f_nac.day)\n",
        "faltan= f_cumple - f_hoy\n",
        "\n",
        "print(f\"Faltan {faltan.days} días para su próximo cumpleaños\")"
      ],
      "metadata": {
        "colab": {
          "base_uri": "https://localhost:8080/"
        },
        "id": "b4X9hg7A0D22",
        "outputId": "2b2241db-6efb-4874-a4ae-014209609223"
      },
      "execution_count": 44,
      "outputs": [
        {
          "output_type": "stream",
          "name": "stdout",
          "text": [
            "Digite su edad (dd/mm/aaaa): 29/03/2004\n",
            "Usted tiene 18 años\n",
            "Faltan 211 días para su próximo cumpleaños\n"
          ]
        }
      ]
    },
    {
      "cell_type": "code",
      "source": [
        "#8. Escriba un programa que defina si un número es bisiesto.\n",
        "#Un año es bisiesto cuando son múltiplos de 4, pero no son múltiplos de 100.\n",
        "\n",
        "\n",
        "año=int(input(\"Ingrese el año: \"))\n",
        "bis=bool\n",
        "\n",
        "if año%4==0:\n",
        "    bis=True\n",
        "    if año%100==0:\n",
        "        bis=True if año%400==0 else False\n",
        "\n",
        "else:\n",
        "    bis=False\n",
        "\n",
        "print(f\"El año {año} es bisiesto\" if bis==True else f\"El año {año} no es bisiesto\")\n"
      ],
      "metadata": {
        "colab": {
          "base_uri": "https://localhost:8080/"
        },
        "id": "spTG-Lg00ddE",
        "outputId": "86076044-d178-436f-89aa-b71458f86f2e"
      },
      "execution_count": 56,
      "outputs": [
        {
          "output_type": "stream",
          "name": "stdout",
          "text": [
            "Ingrese el año: 2016\n",
            "El año 2016 es bisiesto\n"
          ]
        }
      ]
    },
    {
      "cell_type": "code",
      "source": [
        "#9.\tEscriba un programa que solicite los coeficientes \n",
        "#de la ecuación de la recta ax+b=0 y escriba la solución.\n",
        "\n",
        "print(\"Digite los valores para la ecuación ax+b=0 \")\n",
        "a=int(input(\"a = \"))\n",
        "b=int(input(\"b = \"))\n",
        "x=-(b/a)\n",
        "\n",
        "print(f\"El resultado de la ecuación {a}x+{b}=0 es {x}\")"
      ],
      "metadata": {
        "id": "4Lv9DEvx2FeS"
      },
      "execution_count": null,
      "outputs": []
    },
    {
      "cell_type": "code",
      "source": [
        "#10. Escriba un programa que halle la pendiente de la recta ax+b=c. \n",
        " \n",
        "# En la ecuación explícita de la recta con forma y=mx+n\n",
        "# el parámetro m corresponde a la pendiente de la recta\n",
        "\n",
        "print(\"Digite el valor de los coeficientes para la ecuación ax+b=c \")\n",
        "a=int(input(\"a = \"))\n",
        "b=int(input(\"b = \"))\n",
        "c=int(input(\"c = \"))\n",
        "print(f\"En la ecuación {a}x+{b}={c} la pendiente es {a}\")\n"
      ],
      "metadata": {
        "id": "Ln1_JJ9b2I0i"
      },
      "execution_count": null,
      "outputs": []
    },
    {
      "cell_type": "code",
      "source": [
        "#11. Escriba un programa que pida los coeficientes de una ecuación de segundo\n",
        "# grado (a x² + b x + c = 0) y escriba la solución.\n",
        "#Se recuerda que una ecuación de segundo grado puede no tener solución,\n",
        "# tener una solución única, tener dos soluciones o que todos los números sean solución.\n",
        "# Se recuerda que la fórmula de las soluciones cuando hay dos soluciones es x = (-b ± √(b2-4ac) ) / (2a)\n",
        "\n",
        "\n",
        "\n",
        "# Importa clase sqrt (raíz) de la librería math\n",
        "from math import sqrt\n",
        "print(\"Digite el valor de los coeficientes para la ecuación de 2o grado ax^2+bx+c=0 \")\n",
        "a=float(input(\"Coeficiente de la variable cuadrática (a) = \"))\n",
        "b=float(input(\"Coeficiente de la variable lineal (b) = \"))\n",
        "c=float(input(\"Término independiente (c) = \"))\n",
        "\n",
        "# Aplica ecuación cuadrática x = (-b±√(b2-4ac))/(2a)\n",
        "\n",
        "x1=(-b/(2*a)) if ((b**2)-4*a*c)==0 else (-b+sqrt(b**2-(4*a*c)))/(2*a)\n",
        "x2=(-b-sqrt(b**2-(4*a*c)))/(2*a) \n",
        "\n",
        "print(\"Valor negativo en la raiz, la solución requiere números complejos\" if ((b**2)-4*a*c)<0 else \"\")\n",
        "print(f\"La solución de la ecuación es: \\nx1={x1}\" if ((b**2)-4*a*c)==0 else f\"Las soluciones de la ecuación son: \\nx1= {x1} \\nx2= {x2}\")"
      ],
      "metadata": {
        "id": "bDgy0oSU2Kuj",
        "colab": {
          "base_uri": "https://localhost:8080/"
        },
        "outputId": "57a6cd6b-57d0-4049-d5e6-53380cbdf34f"
      },
      "execution_count": 46,
      "outputs": [
        {
          "output_type": "stream",
          "name": "stdout",
          "text": [
            "Digite el valor de los coeficientes para la ecuación de 2o grado ax^2+bx+c=0 \n",
            "Coeficiente de la variable cuadrática (a) = 6\n",
            "Coeficiente de la variable lineal (b) = 13\n",
            "Término independiente (c) = 5\n",
            "\n",
            "Las soluciones de la ecuación son: \n",
            "x1= -0.5 \n",
            "x2= -1.6666666666666667\n"
          ]
        }
      ]
    },
    {
      "cell_type": "markdown",
      "source": [
        "##Hice un arreglo en el punto 12 para que funcionara en Colab"
      ],
      "metadata": {
        "id": "clTpHzO_DYmL"
      }
    },
    {
      "cell_type": "code",
      "source": [
        "#12. Escriba un programa que sirva para evaluar si un estudiante sabe sumar,\n",
        "#restar, multiplicar o dividir. Para ello, debe\n",
        "#a.\tSolicitarle al usuario qué operación desea probar\n",
        "#b.\tLa operación que aparecerá deberá tener dos números aleatorios.\n",
        "#c.\tEl programa definirá si el usuario acertó, o no.\n",
        "\n",
        "\n",
        "# Importa librería random (números aleatorios)\n",
        "import random\n",
        "\n",
        "while True:\n",
        "    print (\"\\n - - Menú - - \")\n",
        "    print (\"  1. Sumar\")\n",
        "    print (\"  2. Restar\")\n",
        "    print (\"  3. Multiplicar\")\n",
        "    print (\"  4. Dividir\")\n",
        "    print (\"  5. Salir\")\n",
        "    opcion = int(input('Digite su elección: '))\n",
        "    num1 = random.randint(1, 100)\n",
        "    num2 = random.randint(1, 100)\n",
        "\n",
        "    if opcion==1: # Sumar\n",
        "        resultado = float(input(f\"Digite el resultado de {num1} + {num2}: \"))\n",
        "        print(f\"Muy bien! {num1} + {num2} = {resultado}\" if num1+num2==resultado else f\"Incorrecto. {num1} + {num2} = {num1+num2}\")\n",
        "\n",
        "    elif opcion==2: # Restar\n",
        "        resultado = float(input(f\"Digite el resultado de {num1} - {num2}: \"))\n",
        "        print(f\"Muy bien! {num1} - {num2} = {resultado}\" if num1-num2==resultado else f\"Incorrecto. {num1} - {num2} = {num1-num2}\")\n",
        "\n",
        "    elif opcion==3: # Multiplicar\n",
        "        resultado = float(input(f\"Digite el resultado de {num1} * {num2}: \"))\n",
        "        print(f\"Muy bien! {num1} * {num2} = {resultado}\" if num1*num2==resultado else f\"Incorrecto. {num1} * {num2} = {num1*num2}\")\n",
        "\n",
        "    elif opcion==4: # Dividir\n",
        "        resultado = round(float(input(f\"Digite el resultado de {num1} / {num2}: \")),2)\n",
        "        print(f\"Muy bien! {num1} / {num2} = {resultado}\" if round((num1/num2),2)==resultado else f\"Incorrecto. {num1} / {num2} = {round((num1/num2),2)}\")\n",
        "\n",
        "    elif opcion==5: #Salir\n",
        "        break\n",
        "    else:\n",
        "        print(\"La opción ingresada no se encuentra en el menú\")\n"
      ],
      "metadata": {
        "colab": {
          "base_uri": "https://localhost:8080/"
        },
        "id": "ou-BthsO4Qp8",
        "outputId": "796e82e7-c0fe-4dca-86d0-ce3556758c42"
      },
      "execution_count": 40,
      "outputs": [
        {
          "name": "stdout",
          "output_type": "stream",
          "text": [
            "\n",
            " - - Menú - - \n",
            "  1. Sumar\n",
            "  2. Restar\n",
            "  3. Multiplicar\n",
            "  4. Dividir\n",
            "  5. Salir\n",
            "Digite su elección: 1\n",
            "Digite el resultado de 17 + 2: 19\n",
            "Muy bien! 17 + 2 = 19.0\n",
            "\n",
            " - - Menú - - \n",
            "  1. Sumar\n",
            "  2. Restar\n",
            "  3. Multiplicar\n",
            "  4. Dividir\n",
            "  5. Salir\n",
            "Digite su elección: 2\n",
            "Digite el resultado de 65 - 82: 3\n",
            "Incorrecto. 65 - 82 = -17\n",
            "\n",
            " - - Menú - - \n",
            "  1. Sumar\n",
            "  2. Restar\n",
            "  3. Multiplicar\n",
            "  4. Dividir\n",
            "  5. Salir\n",
            "Digite su elección: 5\n"
          ]
        }
      ]
    },
    {
      "cell_type": "code",
      "source": [
        "#13. Realizar programa que permita convertir:\n",
        "#a. cm a metros\n",
        "#b. cm a km\n",
        "#c. metros a km\n",
        "#d. km a cm\n",
        "#e. km a  m.\n",
        "\n",
        "med=float(input(\"Ingrese la cantidad que desea convertir: \"))\n",
        "rta=float(0)\n",
        "\n",
        "print(\"\\n - - Menú - - \")\n",
        "print(\"1) cm a metros\")\n",
        "print(\"2) cm a km\")\n",
        "print(\"3) metros a km\")\n",
        "print(\"4) km a cm\")\n",
        "print(\"5) km a m\")\n",
        "opc=int(input(\"Escoja que conversión desea realizar:\"))\n",
        "\n",
        "if opc==1: #1) cm a metros\n",
        "    rta=float(med/100)\n",
        "    print(f\"Resultado: {rta} m\")\n",
        "\n",
        "elif opc==2: #2) cm a km\n",
        "    rta=float(med/100000)\n",
        "    print(f\"Resultado: {rta} km\")\n",
        "    \n",
        "elif opc==3: #3) metros a km\n",
        "    rta=float(med/1000)\n",
        "    print(f\"Resultado: {rta} km\")\n",
        "    \n",
        "elif opc==4: #4) km a cm\n",
        "    rta=float(med*100000)\n",
        "    print(f\"Resultado: {rta} cm\")\n",
        "    \n",
        "elif opc==5: #5) km a m\n",
        "    rta=float(med*1000)\n",
        "    print(f\"Resultado: {rta} m\")\n",
        "else:\n",
        "    print(\"Error: no ha seleccionado una opción valida\")"
      ],
      "metadata": {
        "id": "MJOd44aL3riL"
      },
      "execution_count": null,
      "outputs": []
    },
    {
      "cell_type": "code",
      "source": [
        "#14. Realizar un programa que solicite al usuario que escriba una letra,\n",
        "#y defina si es vocal o consonante. El programa no debe funcionar\n",
        "#(o indicar que es un error) si se intenta ingresar más de una letra o un número.\n",
        "\n",
        "v=[\"A\",\"E\",\"I\",\"O\",\"U\"]\n",
        "a=str(input(\"Ingrese una letra: \"))\n",
        "\n",
        "print(\"Error\" if len(a)==2 or a.isdigit() else f\"La letra {a} es una vocal\" if a.upper() in v else f\"La letra {a} es una consonante\")\n"
      ],
      "metadata": {
        "colab": {
          "base_uri": "https://localhost:8080/"
        },
        "id": "axW0BTvU3Kzk",
        "outputId": "870770e5-f5f8-46b8-a9f5-f57b9ae795d3"
      },
      "execution_count": 36,
      "outputs": [
        {
          "output_type": "stream",
          "name": "stdout",
          "text": [
            "Ingrese una letra: A\n",
            "La letra A es una vocal\n"
          ]
        }
      ]
    },
    {
      "cell_type": "code",
      "source": [
        "#15. Escribir un programa que, dado un número entero,\n",
        "#muestre su valor absoluto. \n",
        "\n",
        "n=int(input(\"Ingrese un NÚMERO ENTERO: \"))\n",
        "\n",
        "print(f\"Su valor absoluto es: {abs(n)}\")"
      ],
      "metadata": {
        "colab": {
          "base_uri": "https://localhost:8080/"
        },
        "id": "fpilzHR83DZb",
        "outputId": "1abb6a6b-6dba-42d2-bd3f-25c409dc90cb"
      },
      "execution_count": 52,
      "outputs": [
        {
          "output_type": "stream",
          "name": "stdout",
          "text": [
            "Ingrese un NÚMERO ENTERO: -90\n",
            "Su valor absoluto es: 90\n"
          ]
        }
      ]
    },
    {
      "cell_type": "code",
      "source": [
        "#16. Realizar un programa que solicite al usuario que ingrese los nombres de\n",
        "#dos usuarios los cuáles se almacenarán en user1 y user2. A continuación,\n",
        "#imprimir “coincidencia” si los nombres de ambas personas comienzan con la\n",
        "#misma letra o si terminan con la misma letra. Si no es así, imprimir\n",
        "#“no hay coincidencia”.\n",
        "\n",
        "user1=list(input(\"Escribe el nombre del primer usuario: \"))\n",
        "user2=list(input(\"Escribe el nombre del segundo usuario: \"))\n",
        "\n",
        "print(\"Coincidencia\" if user1[0]==user2[0] or user1[-1]==user2[-1] else \"No hay coincidencia\")\n"
      ],
      "metadata": {
        "colab": {
          "base_uri": "https://localhost:8080/"
        },
        "id": "8Y40tlxc2prl",
        "outputId": "4569b91c-8b5e-4e87-9ef1-411747eac83a"
      },
      "execution_count": 29,
      "outputs": [
        {
          "output_type": "stream",
          "name": "stdout",
          "text": [
            "Escribe el nombre del primer usuario: Carlos\n",
            "Escribe el nombre del segundo usuario: Javier\n",
            "No hay coincidencia\n"
          ]
        }
      ]
    },
    {
      "cell_type": "code",
      "source": [
        "#17. Escribir un programa que le permita al usuario elegir un candidato por\n",
        "#el cual votar: Candidato A por el partido Alfa, Candidato B, por el partido\n",
        "#Beta, Candidato C por el partido gamma. Cuando el usuario introduce A, B o C,\n",
        "#deberá imprimir por cuál candidato y partido ha votado. Si el usuario\n",
        "#introduce otra letra, el programa debe indicarle que ha cometido un error.\n",
        "\n",
        "cnd=[\"A\",\"B\",\"C\",\"ALFA\",\"BETA\",\"GAMMA\"]\n",
        "print(\"n - - Candidatos - - \")\n",
        "print(\"Candidato A del partido Alfa\")\n",
        "print(\"Candidato B del partido Beta\")\n",
        "print(\"Candidato C del partido Gamma\")\n",
        "\n",
        "sure=False\n",
        "while sure==False: #Confirmar elección\n",
        "    opc=input(\"Escoja el candidato o el partido por el que desea votar: \")\n",
        "    \n",
        "    s=input(\"¿Seguro que desea votar por ese candidato? Si/No: \") if opc.upper()in cnd else print(\"Error: no ha seleccionado una opción valida\")\n",
        "    sure=False if s.upper()==\"NO\" else True\n",
        "\n",
        "\n",
        "print(\"Usted a votado por el candidato A del partido Alfa\" if opc.upper()==\"A\" or opc.upper()==\"ALFA\" else \"\")\n",
        "print(\"Usted a votado por el candidato B del partido Beta\" if opc.upper()==\"B\" or opc.upper()==\"BETA\" else \"\")\n",
        "print(\"Usted a votado por el candidato C del partido Gamma\" if opc.upper()==\"C\" or opc.upper()==\"GAMMA\" else \"\")\n",
        "\n"
      ],
      "metadata": {
        "colab": {
          "base_uri": "https://localhost:8080/"
        },
        "id": "aGkXx65j0_TT",
        "outputId": "a4a052f9-7cdf-4b64-c878-ccabf19a8959"
      },
      "execution_count": 54,
      "outputs": [
        {
          "output_type": "stream",
          "name": "stdout",
          "text": [
            " - - Candidatos - - \n",
            "Candidato A del partido Alfa\n",
            "Candidato B del partido Beta\n",
            "Candidato C del partido Gamma\n",
            "Escoja el candidato o el partido por el que desea votar: a\n",
            "¿Seguro que desea votar por ese candidato? Si/No: no\n",
            "Escoja el candidato o el partido por el que desea votar: a\n",
            "¿Seguro que desea votar por ese candidato? Si/No: si\n",
            "Usted a votado por el candidato A del partido Alfa\n",
            "\n",
            "\n"
          ]
        }
      ]
    },
    {
      "cell_type": "code",
      "source": [
        "#18. Escribir un programa que separe un número en sus unidades,\n",
        "#decenas y centenas.\n",
        "\n",
        "n=list(input(\"Escriba un número de tres digitos: \"))\n",
        "n2=list(map(int,n))\n",
        "\n",
        "print(\"Error: el número debe ser de tres dígitos\" if len(n)>3 or len(n)<3 else f\"{n2[0]} Centenas ({n2[0]*100})\\n{n2[1]} Decenas ({n2[1]*10})\\n{n2[2]} Unidades\")\n",
        "\n"
      ],
      "metadata": {
        "colab": {
          "base_uri": "https://localhost:8080/"
        },
        "id": "Aqb1rOhHz3gj",
        "outputId": "937b1a8c-8c73-4339-8d3d-8c69970d2036"
      },
      "execution_count": 55,
      "outputs": [
        {
          "output_type": "stream",
          "name": "stdout",
          "text": [
            "Escriba un número de tres digitos: 891\n",
            "8 Centenas (800)\n",
            "9 Decenas (90)\n",
            "1 Unidades\n"
          ]
        }
      ]
    },
    {
      "cell_type": "code",
      "source": [
        "#19. Escribir un programa que lea una palabra y defina si es un palíndromo.\n",
        "#NOTA: Un palíndromo es una palabra que se lee igual adelante y hacia atrás.\n",
        "\n",
        "x=input(\"Ingrese una palabra: \")\n",
        "\n",
        "print(f\"La palabra {x} es un palíndromo\" if str(x)==str(x)[::-1] else f\"La palabra {x} no es un palíndromo\")\n",
        "\n"
      ],
      "metadata": {
        "colab": {
          "base_uri": "https://localhost:8080/"
        },
        "id": "8Mvd4gmxzki9",
        "outputId": "ad502599-5b71-426d-ec27-264572f86d9b"
      },
      "execution_count": 17,
      "outputs": [
        {
          "output_type": "stream",
          "name": "stdout",
          "text": [
            "Ingrese una palabra: ola\n",
            "La palabra ola no es un palíndromo\n"
          ]
        }
      ]
    },
    {
      "cell_type": "code",
      "source": [
        "#20.Escribir un programa que lea un número y defina si es o no un palíndromo.\n",
        "\n",
        "x=int(input(\"Ingrese un número: \"))\n",
        "\n",
        "print(f\"El número {x} es un palíndromo\" if str(x)==str(x)[::-1] else f\"El número {x} no es un palíndromo\")\n",
        "\n"
      ],
      "metadata": {
        "colab": {
          "base_uri": "https://localhost:8080/"
        },
        "id": "cwBUZkkCzI6O",
        "outputId": "d5fde34a-b45d-4e5a-8c52-e68a0cfe3524"
      },
      "execution_count": 15,
      "outputs": [
        {
          "output_type": "stream",
          "name": "stdout",
          "text": [
            "Ingrese un número: 131\n",
            "El número 131 es un palíndromo\n"
          ]
        }
      ]
    }
  ]
}